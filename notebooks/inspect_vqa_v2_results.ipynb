{
 "cells": [
  {
   "cell_type": "code",
   "execution_count": 7,
   "metadata": {},
   "outputs": [],
   "source": [
    "from pathlib import Path\n",
    "from emma_datasets.io.json import read_json\n",
    "from random import shuffle\n",
    "\n",
    "annotations_path = Path(\"../storage/datasets/vqa_v2/v2_mscoco_val2014_annotations.json\")\n",
    "questions_path = Path(\"../storage/datasets/vqa_v2/v2_OpenEnded_mscoco_val2014_questions.json\")\n",
    "results_path = Path(\"../storage/vqa_results.json\")\n",
    "n_examples = 5"
   ]
  },
  {
   "cell_type": "code",
   "execution_count": 8,
   "metadata": {},
   "outputs": [],
   "source": [
    "results = read_json(results_path)\n",
    "annotations = read_json(annotations_path)[\"annotations\"]\n",
    "annotations = {ann[\"question_id\"]: ann for ann in annotations}\n",
    "questions = read_json(questions_path)[\"questions\"]\n",
    "questions = {ann[\"question_id\"]: ann for ann in questions}"
   ]
  },
  {
   "cell_type": "code",
   "execution_count": 11,
   "metadata": {},
   "outputs": [
    {
     "name": "stdout",
     "output_type": "stream",
     "text": [
      "Question 484681002: What is the boy holding?\n",
      "Ground truths: ['basket', 'wagon', 'handle', 'toy', 'backpack', 'bag', 'bag', 'handle', 'suitcase', 'bag']\n",
      "Predicted answer: bag\n",
      "\n",
      "Question 30925002: What is in front of the giraffe?\n",
      "Ground truths: ['water', 'pond', 'lake', 'pond', 'lake', 'tree', 'tree', 'tree', 'water', 'pond']\n",
      "Predicted answer: pond\n",
      "\n",
      "Question 375786005: Are the kites all the same shape?\n",
      "Ground truths: ['yes', 'yes', 'yes', 'yes', 'yes', 'yes', 'yes', 'yes', 'yes', 'yes']\n",
      "Predicted answer: no\n",
      "\n",
      "Question 347740002: How many rolls of toilet paper are there?\n",
      "Ground truths: ['1', '1', '1', '1', '1', '1', '1', '1', '1', '1']\n",
      "Predicted answer: 1\n",
      "\n",
      "Question 5123002: Where are the palm trees?\n",
      "Ground truths: ['right', 'on right', 'by street', 'to right', 'next to house', 'right', 'right side', 'right', 'sidewalk', 'in background']\n",
      "Predicted answer: behind fence\n",
      "\n",
      "Question 374083006: Is the cake whole?\n",
      "Ground truths: ['no', 'no', 'no', 'no', 'no', 'no', 'no', 'no', 'no', 'no']\n",
      "Predicted answer: no\n",
      "\n",
      "Question 76529002: What time of day is it likely to be?\n",
      "Ground truths: ['morning', 'morning', 'morning', 'morning', 'morning', 'morning', '8:00', 'morning', 'morning', 'morning']\n",
      "Predicted answer: morning\n",
      "\n",
      "Question 423141003: Is the bottle full?\n",
      "Ground truths: ['no', 'no', 'no', 'no', 'no', 'no', 'no', 'no', 'no', 'no']\n",
      "Predicted answer: yes\n",
      "\n",
      "Question 378701001: Is that tip of the surfboards?\n",
      "Ground truths: ['yes', 'yes', 'yes', 'yes', 'yes', 'yes', 'no', 'yes', 'yes', 'yes']\n",
      "Predicted answer: yes\n",
      "\n",
      "Question 307292001: Is the man's head tilted to the left or right?\n",
      "Ground truths: ['right', 'right', 'left', 'right', 'left', 'right', 'right', 'left', 'right', 'right']\n",
      "Predicted answer: right\n",
      "\n",
      "Question 528604022: What color is this man's facial hair?\n",
      "Ground truths: ['black', 'brown', 'black', 'brown', 'brown', 'brown', 'blonde', 'gray', 'brown', 'brown']\n",
      "Predicted answer: brown\n",
      "\n",
      "Question 258628004: Is this boy a professional tennis player?\n",
      "Ground truths: ['yes', 'no', 'no', 'no', 'no', 'no', 'no', 'no', 'yes', 'yes']\n",
      "Predicted answer: no\n",
      "\n",
      "Question 108392003: How many different type of muffins are there?\n",
      "Ground truths: ['2', 'many', '0', '0', '5', '4', '5', '2', 'many', '2']\n",
      "Predicted answer: 1\n",
      "\n",
      "Question 253964000: Are there any people in the picture?\n",
      "Ground truths: ['yes', 'yes', 'yes', 'yes', 'yes', 'yes', 'yes', 'yes', 'yes', 'yes']\n",
      "Predicted answer: yes\n",
      "\n",
      "Question 47511002: Is the surface of the table solid wood or laminated?\n",
      "Ground truths: ['wood', 'wood', 'wood', 'wood', 'yes', 'wood', 'laminate', 'laminated', 'wood', 'wood']\n",
      "Predicted answer: \n",
      "\n",
      "Question 375324004: Is the photo taken with the camera pointing up?\n",
      "Ground truths: ['yes', 'yes', 'yes', 'no', 'no', 'yes', 'yes', 'yes', 'yes', 'no']\n",
      "Predicted answer: yes\n",
      "\n",
      "Question 184386000: Is the person who lives here a philosopher?\n",
      "Ground truths: ['yes', 'no', 'yes', 'yes', 'no', 'yes', 'yes', 'maybe', 'yes', 'no']\n",
      "Predicted answer: no\n",
      "\n",
      "Question 424172001: What kind of sport is the girl doing?\n",
      "Ground truths: ['surfing', 'surfing', 'paddle', 'paddle boarding', 'surfing', 'paddle boarding', 'paddle boarding', 'surfing', 'stand up paddle boarding', 'surfing']\n",
      "Predicted answer: paddle boarding\n",
      "\n",
      "Question 143554001: Where is the nike sign?\n",
      "Ground truths: ['upper left of jersey', 'on his shirt', 'shirt', 'shirt', 'shirt', 'shirt', 'right shoulder', 'shirt', 'on shirt', 'on shirt']\n",
      "Predicted answer: shirt\n",
      "\n",
      "Question 276195006: What animals are shown?\n",
      "Ground truths: ['giraffe', 'giraffe', 'giraffe', 'giraffe', 'giraffe', 'giraffe', 'giraffe', 'giraffe', 'giraffe', 'giraffe']\n",
      "Predicted answer: giraffe\n",
      "\n"
     ]
    }
   ],
   "source": [
    "shuffle(results)\n",
    "for result in results[:n_examples]:\n",
    "    question_id = int(result[\"question_id\"])\n",
    "    print(f\"Question {question_id}: {questions[question_id]['question']}\")\n",
    "    print(f\"Ground truths: {[ann['answer'] for ann in annotations[question_id]['answers']]}\")\n",
    "    print(f\"Predicted answer: {result['answer']}\\n\")"
   ]
  }
 ],
 "metadata": {
  "kernelspec": {
   "display_name": "Python 3.9.12 ('emma')",
   "language": "python",
   "name": "python3"
  },
  "language_info": {
   "codemirror_mode": {
    "name": "ipython",
    "version": 3
   },
   "file_extension": ".py",
   "mimetype": "text/x-python",
   "name": "python",
   "nbconvert_exporter": "python",
   "pygments_lexer": "ipython3",
   "version": "3.9.12"
  },
  "orig_nbformat": 4,
  "vscode": {
   "interpreter": {
    "hash": "0ee53ab302d70dc2b4b6ceff365a75f0f8d5471af86eaa2f96d460774c6ebc79"
   }
  }
 },
 "nbformat": 4,
 "nbformat_minor": 2
}
